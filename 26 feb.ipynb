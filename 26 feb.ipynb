{
 "cells": [
  {
   "cell_type": "code",
   "execution_count": 3,
   "id": "02c8d516-cab1-4f4f-b38c-3363b42723cf",
   "metadata": {},
   "outputs": [],
   "source": [
    "# Q1\n",
    "import numpy as np\n",
    "list_ = [ 1 , 2 , 3 , 4 , 5 ]\n",
    "array_list = np.array(object = list_)\n",
    "# List cannot manage arithmetic operations.\n",
    "# Array can manage arithmetic operations."
   ]
  },
  {
   "cell_type": "code",
   "execution_count": 15,
   "id": "7c191d0c-8100-401f-8f2f-4dbf12850797",
   "metadata": {},
   "outputs": [
    {
     "data": {
      "text/plain": [
       "list"
      ]
     },
     "execution_count": 15,
     "metadata": {},
     "output_type": "execute_result"
    }
   ],
   "source": [
    "type(list_)"
   ]
  },
  {
   "cell_type": "code",
   "execution_count": 9,
   "id": "3bf25595-44f5-42ba-a5ec-516207a7758c",
   "metadata": {},
   "outputs": [
    {
     "data": {
      "text/plain": [
       "numpy.ndarray"
      ]
     },
     "execution_count": 9,
     "metadata": {},
     "output_type": "execute_result"
    }
   ],
   "source": [
    "type(array_list)"
   ]
  },
  {
   "cell_type": "code",
   "execution_count": 16,
   "id": "a47a78d2-1cc0-471a-b89d-36e744419739",
   "metadata": {},
   "outputs": [
    {
     "data": {
      "text/plain": [
       "dtype('int64')"
      ]
     },
     "execution_count": 16,
     "metadata": {},
     "output_type": "execute_result"
    }
   ],
   "source": [
    "array_list.dtype"
   ]
  },
  {
   "cell_type": "code",
   "execution_count": 21,
   "id": "91ebfcf1-9d7a-451d-aca0-f16f2986bcf8",
   "metadata": {},
   "outputs": [
    {
     "name": "stdout",
     "output_type": "stream",
     "text": [
      "<class 'int'>\n",
      "<class 'int'>\n",
      "<class 'int'>\n",
      "<class 'int'>\n",
      "<class 'int'>\n"
     ]
    }
   ],
   "source": [
    "# Q2\n",
    "for i in list_:\n",
    "    print(type(i))"
   ]
  },
  {
   "cell_type": "code",
   "execution_count": 22,
   "id": "d40c6483-15de-4e97-9229-7ae76499e59e",
   "metadata": {},
   "outputs": [
    {
     "name": "stdout",
     "output_type": "stream",
     "text": [
      "<class 'numpy.int64'>\n",
      "<class 'numpy.int64'>\n",
      "<class 'numpy.int64'>\n",
      "<class 'numpy.int64'>\n",
      "<class 'numpy.int64'>\n"
     ]
    }
   ],
   "source": [
    "for i in array_list:\n",
    "    print(type(i))"
   ]
  },
  {
   "cell_type": "code",
   "execution_count": 23,
   "id": "698d5073-70c1-4320-885b-92716767b538",
   "metadata": {},
   "outputs": [],
   "source": [
    "# Q3\n",
    "array_list = np.array(object = list_, dtype = int)"
   ]
  },
  {
   "cell_type": "code",
   "execution_count": 25,
   "id": "bcaf5b37-672d-431a-b3c7-ca8a3f496649",
   "metadata": {},
   "outputs": [
    {
     "name": "stdout",
     "output_type": "stream",
     "text": [
      "int64\n",
      "int64\n",
      "int64\n",
      "int64\n",
      "int64\n"
     ]
    }
   ],
   "source": [
    "for i in array_list:\n",
    "    print (i.dtype)"
   ]
  },
  {
   "cell_type": "code",
   "execution_count": 28,
   "id": "e79bec1a-34c3-4ba1-860d-9da79e118554",
   "metadata": {},
   "outputs": [
    {
     "name": "stdout",
     "output_type": "stream",
     "text": [
      "<class 'int'>\n",
      "<class 'int'>\n",
      "<class 'int'>\n",
      "<class 'int'>\n",
      "<class 'int'>\n"
     ]
    }
   ],
   "source": [
    "for i in list_:\n",
    "    print (type(i))"
   ]
  },
  {
   "cell_type": "code",
   "execution_count": 29,
   "id": "8c4cb0c0-e975-41cb-b598-3a87271ef78e",
   "metadata": {},
   "outputs": [],
   "source": [
    "# no their is no difference between list_ and array_list, the both are int type"
   ]
  },
  {
   "cell_type": "code",
   "execution_count": 30,
   "id": "80d2a419-9a04-4440-bb1a-3e75ea90c877",
   "metadata": {},
   "outputs": [],
   "source": [
    "# Q4\n",
    "import numpy as np\n",
    "num_list = [ [ 1 , 2 , 3 ] , [ 4 , 5 , 6 ] ]\n",
    "num_array = np.array(object = num_list)"
   ]
  },
  {
   "cell_type": "code",
   "execution_count": 33,
   "id": "4d5acde1-aa4e-4f96-a68f-3487c4ad2b9d",
   "metadata": {},
   "outputs": [
    {
     "data": {
      "text/plain": [
       "(2, 3)"
      ]
     },
     "execution_count": 33,
     "metadata": {},
     "output_type": "execute_result"
    }
   ],
   "source": [
    "# (I)\n",
    "num_array.shape"
   ]
  },
  {
   "cell_type": "code",
   "execution_count": 34,
   "id": "257835cc-ac60-4d22-b389-35f19255c302",
   "metadata": {},
   "outputs": [
    {
     "data": {
      "text/plain": [
       "6"
      ]
     },
     "execution_count": 34,
     "metadata": {},
     "output_type": "execute_result"
    }
   ],
   "source": [
    "# (II)\n",
    "num_array.size"
   ]
  },
  {
   "cell_type": "code",
   "execution_count": 37,
   "id": "5ea61f5d-4c3c-47de-9ab4-7bff2f320d41",
   "metadata": {},
   "outputs": [],
   "source": [
    "# Q5\n",
    "import numpy as np\n",
    "aar = np.zeros((3,3))"
   ]
  },
  {
   "cell_type": "code",
   "execution_count": 38,
   "id": "73247647-7b13-4d94-9bd5-f40569ac69e2",
   "metadata": {},
   "outputs": [
    {
     "data": {
      "text/plain": [
       "array([[0., 0., 0.],\n",
       "       [0., 0., 0.],\n",
       "       [0., 0., 0.]])"
      ]
     },
     "execution_count": 38,
     "metadata": {},
     "output_type": "execute_result"
    }
   ],
   "source": [
    "aar"
   ]
  },
  {
   "cell_type": "code",
   "execution_count": 39,
   "id": "3ac93593-dc63-47b2-81dd-00cd550ee0c0",
   "metadata": {},
   "outputs": [
    {
     "data": {
      "text/plain": [
       "9"
      ]
     },
     "execution_count": 39,
     "metadata": {},
     "output_type": "execute_result"
    }
   ],
   "source": [
    "aar.size"
   ]
  },
  {
   "cell_type": "code",
   "execution_count": 40,
   "id": "38a386c9-4fc4-422d-b8f7-958d57742e45",
   "metadata": {},
   "outputs": [],
   "source": [
    "# Q6\n",
    "import numpy as np\n",
    "a = np.eye(5)"
   ]
  },
  {
   "cell_type": "code",
   "execution_count": 41,
   "id": "9efe0933-8565-477e-aa61-74a370191c8a",
   "metadata": {},
   "outputs": [
    {
     "data": {
      "text/plain": [
       "array([[1., 0., 0., 0., 0.],\n",
       "       [0., 1., 0., 0., 0.],\n",
       "       [0., 0., 1., 0., 0.],\n",
       "       [0., 0., 0., 1., 0.],\n",
       "       [0., 0., 0., 0., 1.]])"
      ]
     },
     "execution_count": 41,
     "metadata": {},
     "output_type": "execute_result"
    }
   ],
   "source": [
    "a"
   ]
  },
  {
   "cell_type": "code",
   "execution_count": null,
   "id": "1dd4e5b7-72d1-4728-90ed-681d86056dce",
   "metadata": {},
   "outputs": [],
   "source": []
  }
 ],
 "metadata": {
  "kernelspec": {
   "display_name": "Python 3 (ipykernel)",
   "language": "python",
   "name": "python3"
  },
  "language_info": {
   "codemirror_mode": {
    "name": "ipython",
    "version": 3
   },
   "file_extension": ".py",
   "mimetype": "text/x-python",
   "name": "python",
   "nbconvert_exporter": "python",
   "pygments_lexer": "ipython3",
   "version": "3.10.8"
  }
 },
 "nbformat": 4,
 "nbformat_minor": 5
}
